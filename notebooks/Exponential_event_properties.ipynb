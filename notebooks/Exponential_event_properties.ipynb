{
 "cells": [
  {
   "cell_type": "markdown",
   "metadata": {},
   "source": [
    "here we insure that the calculus that we present in tis study works for the trivial exponential event\n",
    "\n",
    "$$\n",
    "PSP(t) = Q \\, e^{\\frac{t-t_0}{\\tau}}\\mathcal{H}(t-t_0)\n",
    "$$\n",
    "\n",
    "where $\\mathcal{H}$ is the Heaviside step function.\n",
    "\n",
    "We take the Fourier transform\n",
    "\n",
    "$$\n",
    "\\hat{PSP}(f) = e^{2 i \\pi \\,f\\,t_0} \\frac{Q \\, \\tau} {1 + 2\\,i\\,\\pi\\,f\\,\\tau}\n",
    "$$\n",
    "\n",
    "We square it and integrate it:\n",
    "\n",
    "$$\n",
    "\\int_{-\\infty}^{+\\infty} \\| \\hat{PSP}(f) \\| ^2 df = \n",
    "\\int_{-\\infty}^{+\\infty} \\frac{(Q\\, \\tau)^2}{1+(2 \\pi\\,f\\,\\tau)^2} df \n",
    "$$\n",
    "\n",
    "We use the result :\n",
    "$$\n",
    "\\int_{-\\infty}^{+\\infty} \\frac{1}{1+x^2} dx = \\pi \n",
    "$$\n",
    "\n",
    "to obtain\n",
    "\n",
    "$$\n",
    "\\int_{-\\infty}^{+\\infty} \\| \\hat{PSP}(f) \\| ^2 df = \\frac{Q^2 \\, \\tau}{2}\n",
    "$$\n",
    "\n",
    "then indeed :\n",
    "\n",
    "$$\n",
    "\\tau = \\frac{\\|\\hat{PSP}(0)\\|^2}{2 \\, \\int_{-\\infty}^{+\\infty} \\| \\hat{PSP}(f) \\| ^2 df}\n",
    "$$\n"
   ]
  },
  {
   "cell_type": "code",
   "execution_count": 3,
   "metadata": {
    "collapsed": true
   },
   "outputs": [],
   "source": [
    "from sympy import *\n",
    "x, y, z, t = symbols('x y z t')"
   ]
  },
  {
   "cell_type": "code",
   "execution_count": 5,
   "metadata": {
    "collapsed": false
   },
   "outputs": [
    {
     "data": {
      "text/plain": [
       "pi"
      ]
     },
     "execution_count": 5,
     "metadata": {},
     "output_type": "execute_result"
    }
   ],
   "source": [
    "integrate(1/(1+x**2) , (x, -oo, oo))"
   ]
  },
  {
   "cell_type": "code",
   "execution_count": null,
   "metadata": {
    "collapsed": true
   },
   "outputs": [],
   "source": []
  }
 ],
 "metadata": {
  "kernelspec": {
   "display_name": "Python 2",
   "language": "python",
   "name": "python2"
  },
  "language_info": {
   "codemirror_mode": {
    "name": "ipython",
    "version": 2
   },
   "file_extension": ".py",
   "mimetype": "text/x-python",
   "name": "python",
   "nbconvert_exporter": "python",
   "pygments_lexer": "ipython2",
   "version": "2.7.10"
  }
 },
 "nbformat": 4,
 "nbformat_minor": 0
}
